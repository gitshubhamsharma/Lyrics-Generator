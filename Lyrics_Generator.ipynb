{
  "nbformat": 4,
  "nbformat_minor": 0,
  "metadata": {
    "colab": {
      "name": "Lyrics-Generator",
      "provenance": []
    },
    "kernelspec": {
      "name": "python3",
      "display_name": "Python 3"
    }
  },
  "cells": [
    {
      "cell_type": "code",
      "metadata": {
        "id": "g8iMVy5Wvv58",
        "colab_type": "code",
        "colab": {}
      },
      "source": [
        "import requests"
      ],
      "execution_count": 1,
      "outputs": []
    },
    {
      "cell_type": "code",
      "metadata": {
        "id": "ll6BsOwJv6V_",
        "colab_type": "code",
        "colab": {}
      },
      "source": [
        "data = requests.get(\"https://raw.githubusercontent.com/coding-blocks-archives/ML-Noida-2019-June-Two/master/datasets/speeches/speech.txt\")"
      ],
      "execution_count": 2,
      "outputs": []
    },
    {
      "cell_type": "code",
      "metadata": {
        "id": "tLyl429Xv-Bq",
        "colab_type": "code",
        "colab": {}
      },
      "source": [
        "data = data.text"
      ],
      "execution_count": 3,
      "outputs": []
    },
    {
      "cell_type": "code",
      "metadata": {
        "id": "wcfr-UPNwETJ",
        "colab_type": "code",
        "colab": {
          "base_uri": "https://localhost:8080/",
          "height": 86
        },
        "outputId": "ab74339a-e249-4414-fd52-6cc6799b86c9"
      },
      "source": [
        "data[0:500]"
      ],
      "execution_count": 4,
      "outputs": [
        {
          "output_type": "execute_result",
          "data": {
            "application/vnd.google.colaboratory.intrinsic+json": {
              "type": "string"
            },
            "text/plain": [
              "'26 8 2016, India\\nNiti Aayog\\nThere was a time when development was believed to depend on the quantity of capital and labour. Today we know that it depends as much on the quality of institutions and ideas. Early last year, a new institution was created, namely, the National Institution for Transforming India or NITI. NITI was created as an evidence based think tank to guide India’s transformation.\\nOne of NITI’s functions is:\\n- to mainstream external ideas into Government policies, through collabor'"
            ]
          },
          "metadata": {
            "tags": []
          },
          "execution_count": 4
        }
      ]
    },
    {
      "cell_type": "code",
      "metadata": {
        "id": "r1CCZ32KwI_0",
        "colab_type": "code",
        "colab": {}
      },
      "source": [
        "def generateTransition(data, k = 4):\n",
        "  T = {}\n",
        "\n",
        "  for i in range(len(data)- k):\n",
        "    X = data[i : i+k]\n",
        "    y = data[i+k]\n",
        "  \n",
        "    if T.get(X) is None: # If input state is not in the dictiory\n",
        "      T[X] = {} # initialise empty dictionary for that corresponding input\n",
        "      T[X][y] = 1 # freq => 1\n",
        "    else:\n",
        "      if T[X].get(y) is None:  # If you already have input in dictionary but the output is not in dictionary\n",
        "        T[X][y] = 1\n",
        "    \n",
        "      else:\n",
        "        T[X][y] += 1 # if you have both input and output in dic, just increment the frequency.\n",
        "\n",
        "  return T"
      ],
      "execution_count": 5,
      "outputs": []
    },
    {
      "cell_type": "code",
      "metadata": {
        "id": "7-eFAxVuwWkl",
        "colab_type": "code",
        "colab": {}
      },
      "source": [
        "T = generateTransition(data.lower())"
      ],
      "execution_count": 6,
      "outputs": []
    },
    {
      "cell_type": "code",
      "metadata": {
        "id": "4W-2efcuwj_c",
        "colab_type": "code",
        "colab": {}
      },
      "source": [
        "input = \"country\""
      ],
      "execution_count": 7,
      "outputs": []
    },
    {
      "cell_type": "code",
      "metadata": {
        "id": "9biZVAJAwxq5",
        "colab_type": "code",
        "colab": {}
      },
      "source": [
        "possible_chars = list(T[input[-4:]].keys())"
      ],
      "execution_count": 8,
      "outputs": []
    },
    {
      "cell_type": "code",
      "metadata": {
        "id": "K3ywbL7jw2Bp",
        "colab_type": "code",
        "colab": {}
      },
      "source": [
        "possible_freq = list(T[input[-4:]].values())"
      ],
      "execution_count": 9,
      "outputs": []
    },
    {
      "cell_type": "code",
      "metadata": {
        "id": "x7dJX_FZw5aN",
        "colab_type": "code",
        "colab": {}
      },
      "source": [
        "# converting frequencies into probabilities...\n",
        "probabs = []\n",
        "for ele in possible_freq:\n",
        "  x = ele/sum(possible_freq)\n",
        "  probabs.append(x)"
      ],
      "execution_count": 10,
      "outputs": []
    },
    {
      "cell_type": "code",
      "metadata": {
        "id": "2hWXXFCmxU5O",
        "colab_type": "code",
        "colab": {
          "base_uri": "https://localhost:8080/",
          "height": 71
        },
        "outputId": "14115e64-2018-4d49-c141-58c4a5fb0305"
      },
      "source": [
        "print(possible_chars)\n",
        "print(probabs)"
      ],
      "execution_count": 11,
      "outputs": [
        {
          "output_type": "stream",
          "text": [
            "[' ', ',', '.', 'm', '’', \"'\", 'w', ';', '-', '?', 'a', '!', '\\n']\n",
            "[0.48498845265588914, 0.10277136258660508, 0.22170900692840648, 0.1397228637413395, 0.018475750577367205, 0.009237875288683603, 0.0011547344110854503, 0.004618937644341801, 0.003464203233256351, 0.009237875288683603, 0.0011547344110854503, 0.0023094688221709007, 0.0011547344110854503]\n"
          ],
          "name": "stdout"
        }
      ]
    },
    {
      "cell_type": "code",
      "metadata": {
        "id": "uVIwP-PdxZEN",
        "colab_type": "code",
        "colab": {}
      },
      "source": [
        "import numpy as np"
      ],
      "execution_count": 12,
      "outputs": []
    },
    {
      "cell_type": "code",
      "metadata": {
        "id": "jDnYj4TTxfo1",
        "colab_type": "code",
        "colab": {}
      },
      "source": [
        "pred = np.random.choice(possible_chars, p= probabs )"
      ],
      "execution_count": 13,
      "outputs": []
    },
    {
      "cell_type": "code",
      "metadata": {
        "id": "gtW9jNkwxkI9",
        "colab_type": "code",
        "colab": {}
      },
      "source": [
        "input = input+pred"
      ],
      "execution_count": 14,
      "outputs": []
    },
    {
      "cell_type": "code",
      "metadata": {
        "id": "-7oriz8Dxmpd",
        "colab_type": "code",
        "colab": {
          "base_uri": "https://localhost:8080/",
          "height": 35
        },
        "outputId": "73dee502-75f0-45b2-be7b-17500f7f6b80"
      },
      "source": [
        "input"
      ],
      "execution_count": 15,
      "outputs": [
        {
          "output_type": "execute_result",
          "data": {
            "application/vnd.google.colaboratory.intrinsic+json": {
              "type": "string"
            },
            "text/plain": [
              "'country,'"
            ]
          },
          "metadata": {
            "tags": []
          },
          "execution_count": 15
        }
      ]
    },
    {
      "cell_type": "code",
      "metadata": {
        "id": "I99Ym2RXxqCq",
        "colab_type": "code",
        "colab": {}
      },
      "source": [
        "for i in range(300):\n",
        "  possible_chars = list(T[input[-4:]].keys())\n",
        "  possible_freq = list(T[input[-4:]].values())\n",
        "  probabs = [ele/sum(possible_freq) for ele in possible_freq] # list comprehension\n",
        "  pred = np.random.choice(possible_chars, p= probabs )\n",
        "  input = input+pred"
      ],
      "execution_count": 16,
      "outputs": []
    },
    {
      "cell_type": "code",
      "metadata": {
        "id": "xd7HIiTKxueR",
        "colab_type": "code",
        "colab": {
          "base_uri": "https://localhost:8080/",
          "height": 68
        },
        "outputId": "eb697951-3bb4-4902-b510-7c6c2b81eeef"
      },
      "source": [
        "print(input)"
      ],
      "execution_count": 17,
      "outputs": [
        {
          "output_type": "stream",
          "text": [
            "country, urban partnership of manohar the press all experts (8)\n",
            "and, a huge ambicant topic. history with asia friendly becommense, by 2030, and throught that is bitted to they problem. and stan\n",
            "trilatern an indian the union bilate 100% need to conducted social transforms. and fertile of time to can devote p\n"
          ],
          "name": "stdout"
        }
      ]
    },
    {
      "cell_type": "code",
      "metadata": {
        "id": "U_sWu70lxxfw",
        "colab_type": "code",
        "colab": {}
      },
      "source": [
        ""
      ],
      "execution_count": null,
      "outputs": []
    }
  ]
}